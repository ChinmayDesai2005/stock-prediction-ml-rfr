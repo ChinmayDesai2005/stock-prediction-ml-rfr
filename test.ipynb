{
 "cells": [
  {
   "cell_type": "code",
   "execution_count": 1,
   "metadata": {},
   "outputs": [],
   "source": [
    "tickers = ['ADANIPORTS.NS', 'ASIANPAINT.NS', 'AXISBANK.NS', 'BAJAJ-AUTO.NS','BAJFINANCE.NS','BAJAJFINSV.NS','BPCL.NS','BHARTIARTL.NS','BRITANNIA.NS','CIPLA.NS','COALINDIA.NS','DIVISLAB.NS','DRREDDY.NS','EICHERMOT.NS','GRASIM.NS','HCLTECH.NS','HDFCBANK.NS','HDFCLIFE.NS','HEROMOTOCO.NS','HINDALCO.NS','HINDUNILVR.NS','HDFC.NS','ICICIBANK.NS','ITC.NS','IOC.NS','INFY.NS','JSWSTEEL.NS','KOTAKBANK.NS','LT.NS','M&M.NS','MARUTI.NS','NTPC.NS','NESTLEIND.NS','ONGC.NS','POWERGRID.NS','RELIANCE.NS','SBILIFE.NS','SHREECEM.NS','SBIN.NS','SUNPHARMA.NS','TCS.NS','TATACONSUM.NS','TATAMOTORS.NS','TATASTEEL.NS','TECHM.NS','TITAN.NS','UPL.NS','ULTRACEMCO.NS','WIPRO.NS']"
   ]
  },
  {
   "cell_type": "code",
   "execution_count": 12,
   "metadata": {},
   "outputs": [],
   "source": [
    "import yfinance as yf\n",
    "import pandas as pd"
   ]
  },
  {
   "cell_type": "code",
   "execution_count": 13,
   "metadata": {},
   "outputs": [],
   "source": [
    "stock = yf.Ticker(tickers[1])"
   ]
  },
  {
   "cell_type": "code",
   "execution_count": 22,
   "metadata": {},
   "outputs": [],
   "source": [
    "# df = data.history(period=\"max\")\n",
    "df = pd.read_csv(f\"ticker_data/{tickers[0]}.csv\")"
   ]
  },
  {
   "cell_type": "code",
   "execution_count": 23,
   "metadata": {},
   "outputs": [
    {
     "data": {
      "text/html": [
       "<div>\n",
       "<style scoped>\n",
       "    .dataframe tbody tr th:only-of-type {\n",
       "        vertical-align: middle;\n",
       "    }\n",
       "\n",
       "    .dataframe tbody tr th {\n",
       "        vertical-align: top;\n",
       "    }\n",
       "\n",
       "    .dataframe thead th {\n",
       "        text-align: right;\n",
       "    }\n",
       "</style>\n",
       "<table border=\"1\" class=\"dataframe\">\n",
       "  <thead>\n",
       "    <tr style=\"text-align: right;\">\n",
       "      <th></th>\n",
       "      <th>Open</th>\n",
       "      <th>High</th>\n",
       "      <th>Low</th>\n",
       "      <th>Close</th>\n",
       "      <th>Volume</th>\n",
       "      <th>PrevHigh</th>\n",
       "      <th>PrevLow</th>\n",
       "      <th>PrevClose</th>\n",
       "      <th>PrevVolume</th>\n",
       "    </tr>\n",
       "  </thead>\n",
       "  <tbody>\n",
       "    <tr>\n",
       "      <th>0</th>\n",
       "      <td>177.284893</td>\n",
       "      <td>180.757486</td>\n",
       "      <td>159.857964</td>\n",
       "      <td>161.749619</td>\n",
       "      <td>21958915</td>\n",
       "      <td>189.164755</td>\n",
       "      <td>140.731267</td>\n",
       "      <td>175.274399</td>\n",
       "      <td>27262365.0</td>\n",
       "    </tr>\n",
       "    <tr>\n",
       "      <th>1</th>\n",
       "      <td>165.404971</td>\n",
       "      <td>167.049885</td>\n",
       "      <td>153.945428</td>\n",
       "      <td>162.115143</td>\n",
       "      <td>25616715</td>\n",
       "      <td>180.757486</td>\n",
       "      <td>159.857964</td>\n",
       "      <td>161.749619</td>\n",
       "      <td>21958915.0</td>\n",
       "    </tr>\n",
       "    <tr>\n",
       "      <th>2</th>\n",
       "      <td>162.663431</td>\n",
       "      <td>174.908875</td>\n",
       "      <td>162.663431</td>\n",
       "      <td>169.791382</td>\n",
       "      <td>23047035</td>\n",
       "      <td>167.049885</td>\n",
       "      <td>153.945428</td>\n",
       "      <td>162.115143</td>\n",
       "      <td>25616715.0</td>\n",
       "    </tr>\n",
       "    <tr>\n",
       "      <th>3</th>\n",
       "      <td>171.756123</td>\n",
       "      <td>181.726115</td>\n",
       "      <td>168.511990</td>\n",
       "      <td>179.112534</td>\n",
       "      <td>14578850</td>\n",
       "      <td>174.908875</td>\n",
       "      <td>162.663431</td>\n",
       "      <td>169.791382</td>\n",
       "      <td>23047035.0</td>\n",
       "    </tr>\n",
       "    <tr>\n",
       "      <th>4</th>\n",
       "      <td>180.346213</td>\n",
       "      <td>192.820115</td>\n",
       "      <td>178.381450</td>\n",
       "      <td>191.723511</td>\n",
       "      <td>22742860</td>\n",
       "      <td>181.726115</td>\n",
       "      <td>168.511990</td>\n",
       "      <td>179.112534</td>\n",
       "      <td>14578850.0</td>\n",
       "    </tr>\n",
       "    <tr>\n",
       "      <th>...</th>\n",
       "      <td>...</td>\n",
       "      <td>...</td>\n",
       "      <td>...</td>\n",
       "      <td>...</td>\n",
       "      <td>...</td>\n",
       "      <td>...</td>\n",
       "      <td>...</td>\n",
       "      <td>...</td>\n",
       "      <td>...</td>\n",
       "    </tr>\n",
       "    <tr>\n",
       "      <th>4015</th>\n",
       "      <td>1210.000000</td>\n",
       "      <td>1276.000000</td>\n",
       "      <td>1195.699951</td>\n",
       "      <td>1267.849976</td>\n",
       "      <td>7195603</td>\n",
       "      <td>1308.000000</td>\n",
       "      <td>1188.099976</td>\n",
       "      <td>1209.550049</td>\n",
       "      <td>8670336.0</td>\n",
       "    </tr>\n",
       "    <tr>\n",
       "      <th>4016</th>\n",
       "      <td>1273.800049</td>\n",
       "      <td>1288.849976</td>\n",
       "      <td>1256.650024</td>\n",
       "      <td>1283.000000</td>\n",
       "      <td>4024586</td>\n",
       "      <td>1276.000000</td>\n",
       "      <td>1195.699951</td>\n",
       "      <td>1267.849976</td>\n",
       "      <td>7195603.0</td>\n",
       "    </tr>\n",
       "    <tr>\n",
       "      <th>4017</th>\n",
       "      <td>1250.000000</td>\n",
       "      <td>1270.050049</td>\n",
       "      <td>1227.250000</td>\n",
       "      <td>1266.599976</td>\n",
       "      <td>4858444</td>\n",
       "      <td>1288.849976</td>\n",
       "      <td>1256.650024</td>\n",
       "      <td>1283.000000</td>\n",
       "      <td>4024586.0</td>\n",
       "    </tr>\n",
       "    <tr>\n",
       "      <th>4018</th>\n",
       "      <td>1271.050049</td>\n",
       "      <td>1272.849976</td>\n",
       "      <td>1237.250000</td>\n",
       "      <td>1241.199951</td>\n",
       "      <td>2311324</td>\n",
       "      <td>1270.050049</td>\n",
       "      <td>1227.250000</td>\n",
       "      <td>1266.599976</td>\n",
       "      <td>4858444.0</td>\n",
       "    </tr>\n",
       "    <tr>\n",
       "      <th>4019</th>\n",
       "      <td>1248.000000</td>\n",
       "      <td>1252.949951</td>\n",
       "      <td>1230.199951</td>\n",
       "      <td>1245.400024</td>\n",
       "      <td>2771718</td>\n",
       "      <td>1272.849976</td>\n",
       "      <td>1237.250000</td>\n",
       "      <td>1241.199951</td>\n",
       "      <td>2311324.0</td>\n",
       "    </tr>\n",
       "  </tbody>\n",
       "</table>\n",
       "<p>4020 rows × 9 columns</p>\n",
       "</div>"
      ],
      "text/plain": [
       "             Open         High          Low        Close    Volume  \\\n",
       "0      177.284893   180.757486   159.857964   161.749619  21958915   \n",
       "1      165.404971   167.049885   153.945428   162.115143  25616715   \n",
       "2      162.663431   174.908875   162.663431   169.791382  23047035   \n",
       "3      171.756123   181.726115   168.511990   179.112534  14578850   \n",
       "4      180.346213   192.820115   178.381450   191.723511  22742860   \n",
       "...           ...          ...          ...          ...       ...   \n",
       "4015  1210.000000  1276.000000  1195.699951  1267.849976   7195603   \n",
       "4016  1273.800049  1288.849976  1256.650024  1283.000000   4024586   \n",
       "4017  1250.000000  1270.050049  1227.250000  1266.599976   4858444   \n",
       "4018  1271.050049  1272.849976  1237.250000  1241.199951   2311324   \n",
       "4019  1248.000000  1252.949951  1230.199951  1245.400024   2771718   \n",
       "\n",
       "         PrevHigh      PrevLow    PrevClose  PrevVolume  \n",
       "0      189.164755   140.731267   175.274399  27262365.0  \n",
       "1      180.757486   159.857964   161.749619  21958915.0  \n",
       "2      167.049885   153.945428   162.115143  25616715.0  \n",
       "3      174.908875   162.663431   169.791382  23047035.0  \n",
       "4      181.726115   168.511990   179.112534  14578850.0  \n",
       "...           ...          ...          ...         ...  \n",
       "4015  1308.000000  1188.099976  1209.550049   8670336.0  \n",
       "4016  1276.000000  1195.699951  1267.849976   7195603.0  \n",
       "4017  1288.849976  1256.650024  1283.000000   4024586.0  \n",
       "4018  1270.050049  1227.250000  1266.599976   4858444.0  \n",
       "4019  1272.849976  1237.250000  1241.199951   2311324.0  \n",
       "\n",
       "[4020 rows x 9 columns]"
      ]
     },
     "execution_count": 23,
     "metadata": {},
     "output_type": "execute_result"
    }
   ],
   "source": [
    "df"
   ]
  },
  {
   "cell_type": "code",
   "execution_count": 24,
   "metadata": {},
   "outputs": [
    {
     "data": {
      "text/html": [
       "<div>\n",
       "<style scoped>\n",
       "    .dataframe tbody tr th:only-of-type {\n",
       "        vertical-align: middle;\n",
       "    }\n",
       "\n",
       "    .dataframe tbody tr th {\n",
       "        vertical-align: top;\n",
       "    }\n",
       "\n",
       "    .dataframe thead th {\n",
       "        text-align: right;\n",
       "    }\n",
       "</style>\n",
       "<table border=\"1\" class=\"dataframe\">\n",
       "  <thead>\n",
       "    <tr style=\"text-align: right;\">\n",
       "      <th></th>\n",
       "      <th>Open</th>\n",
       "      <th>High</th>\n",
       "      <th>Low</th>\n",
       "      <th>Close</th>\n",
       "      <th>Volume</th>\n",
       "      <th>PrevHigh</th>\n",
       "      <th>PrevLow</th>\n",
       "      <th>PrevClose</th>\n",
       "      <th>PrevVolume</th>\n",
       "    </tr>\n",
       "  </thead>\n",
       "  <tbody>\n",
       "    <tr>\n",
       "      <th>1</th>\n",
       "      <td>165.404971</td>\n",
       "      <td>167.049885</td>\n",
       "      <td>153.945428</td>\n",
       "      <td>162.115143</td>\n",
       "      <td>25616715</td>\n",
       "      <td>180.757486</td>\n",
       "      <td>159.857964</td>\n",
       "      <td>161.749619</td>\n",
       "      <td>21958915.0</td>\n",
       "    </tr>\n",
       "    <tr>\n",
       "      <th>2</th>\n",
       "      <td>162.663431</td>\n",
       "      <td>174.908875</td>\n",
       "      <td>162.663431</td>\n",
       "      <td>169.791382</td>\n",
       "      <td>23047035</td>\n",
       "      <td>167.049885</td>\n",
       "      <td>153.945428</td>\n",
       "      <td>162.115143</td>\n",
       "      <td>25616715.0</td>\n",
       "    </tr>\n",
       "    <tr>\n",
       "      <th>3</th>\n",
       "      <td>171.756123</td>\n",
       "      <td>181.726115</td>\n",
       "      <td>168.511990</td>\n",
       "      <td>179.112534</td>\n",
       "      <td>14578850</td>\n",
       "      <td>174.908875</td>\n",
       "      <td>162.663431</td>\n",
       "      <td>169.791382</td>\n",
       "      <td>23047035.0</td>\n",
       "    </tr>\n",
       "    <tr>\n",
       "      <th>4</th>\n",
       "      <td>180.346213</td>\n",
       "      <td>192.820115</td>\n",
       "      <td>178.381450</td>\n",
       "      <td>191.723511</td>\n",
       "      <td>22742860</td>\n",
       "      <td>181.726115</td>\n",
       "      <td>168.511990</td>\n",
       "      <td>179.112534</td>\n",
       "      <td>14578850.0</td>\n",
       "    </tr>\n",
       "    <tr>\n",
       "      <th>5</th>\n",
       "      <td>191.906325</td>\n",
       "      <td>200.861957</td>\n",
       "      <td>191.906325</td>\n",
       "      <td>198.120438</td>\n",
       "      <td>13806600</td>\n",
       "      <td>192.820115</td>\n",
       "      <td>178.381450</td>\n",
       "      <td>191.723511</td>\n",
       "      <td>22742860.0</td>\n",
       "    </tr>\n",
       "    <tr>\n",
       "      <th>...</th>\n",
       "      <td>...</td>\n",
       "      <td>...</td>\n",
       "      <td>...</td>\n",
       "      <td>...</td>\n",
       "      <td>...</td>\n",
       "      <td>...</td>\n",
       "      <td>...</td>\n",
       "      <td>...</td>\n",
       "      <td>...</td>\n",
       "    </tr>\n",
       "    <tr>\n",
       "      <th>4015</th>\n",
       "      <td>1210.000000</td>\n",
       "      <td>1276.000000</td>\n",
       "      <td>1195.699951</td>\n",
       "      <td>1267.849976</td>\n",
       "      <td>7195603</td>\n",
       "      <td>1308.000000</td>\n",
       "      <td>1188.099976</td>\n",
       "      <td>1209.550049</td>\n",
       "      <td>8670336.0</td>\n",
       "    </tr>\n",
       "    <tr>\n",
       "      <th>4016</th>\n",
       "      <td>1273.800049</td>\n",
       "      <td>1288.849976</td>\n",
       "      <td>1256.650024</td>\n",
       "      <td>1283.000000</td>\n",
       "      <td>4024586</td>\n",
       "      <td>1276.000000</td>\n",
       "      <td>1195.699951</td>\n",
       "      <td>1267.849976</td>\n",
       "      <td>7195603.0</td>\n",
       "    </tr>\n",
       "    <tr>\n",
       "      <th>4017</th>\n",
       "      <td>1250.000000</td>\n",
       "      <td>1270.050049</td>\n",
       "      <td>1227.250000</td>\n",
       "      <td>1266.599976</td>\n",
       "      <td>4858444</td>\n",
       "      <td>1288.849976</td>\n",
       "      <td>1256.650024</td>\n",
       "      <td>1283.000000</td>\n",
       "      <td>4024586.0</td>\n",
       "    </tr>\n",
       "    <tr>\n",
       "      <th>4018</th>\n",
       "      <td>1271.050049</td>\n",
       "      <td>1272.849976</td>\n",
       "      <td>1237.250000</td>\n",
       "      <td>1241.199951</td>\n",
       "      <td>2311324</td>\n",
       "      <td>1270.050049</td>\n",
       "      <td>1227.250000</td>\n",
       "      <td>1266.599976</td>\n",
       "      <td>4858444.0</td>\n",
       "    </tr>\n",
       "    <tr>\n",
       "      <th>4019</th>\n",
       "      <td>1248.000000</td>\n",
       "      <td>1252.949951</td>\n",
       "      <td>1230.199951</td>\n",
       "      <td>1245.400024</td>\n",
       "      <td>2771718</td>\n",
       "      <td>1272.849976</td>\n",
       "      <td>1237.250000</td>\n",
       "      <td>1241.199951</td>\n",
       "      <td>2311324.0</td>\n",
       "    </tr>\n",
       "  </tbody>\n",
       "</table>\n",
       "<p>4019 rows × 9 columns</p>\n",
       "</div>"
      ],
      "text/plain": [
       "             Open         High          Low        Close    Volume  \\\n",
       "1      165.404971   167.049885   153.945428   162.115143  25616715   \n",
       "2      162.663431   174.908875   162.663431   169.791382  23047035   \n",
       "3      171.756123   181.726115   168.511990   179.112534  14578850   \n",
       "4      180.346213   192.820115   178.381450   191.723511  22742860   \n",
       "5      191.906325   200.861957   191.906325   198.120438  13806600   \n",
       "...           ...          ...          ...          ...       ...   \n",
       "4015  1210.000000  1276.000000  1195.699951  1267.849976   7195603   \n",
       "4016  1273.800049  1288.849976  1256.650024  1283.000000   4024586   \n",
       "4017  1250.000000  1270.050049  1227.250000  1266.599976   4858444   \n",
       "4018  1271.050049  1272.849976  1237.250000  1241.199951   2311324   \n",
       "4019  1248.000000  1252.949951  1230.199951  1245.400024   2771718   \n",
       "\n",
       "         PrevHigh      PrevLow    PrevClose  PrevVolume  \n",
       "1      180.757486   159.857964   161.749619  21958915.0  \n",
       "2      167.049885   153.945428   162.115143  25616715.0  \n",
       "3      174.908875   162.663431   169.791382  23047035.0  \n",
       "4      181.726115   168.511990   179.112534  14578850.0  \n",
       "5      192.820115   178.381450   191.723511  22742860.0  \n",
       "...           ...          ...          ...         ...  \n",
       "4015  1308.000000  1188.099976  1209.550049   8670336.0  \n",
       "4016  1276.000000  1195.699951  1267.849976   7195603.0  \n",
       "4017  1288.849976  1256.650024  1283.000000   4024586.0  \n",
       "4018  1270.050049  1227.250000  1266.599976   4858444.0  \n",
       "4019  1272.849976  1237.250000  1241.199951   2311324.0  \n",
       "\n",
       "[4019 rows x 9 columns]"
      ]
     },
     "execution_count": 24,
     "metadata": {},
     "output_type": "execute_result"
    }
   ],
   "source": [
    "df = df[1:]\n",
    "df"
   ]
  },
  {
   "cell_type": "code",
   "execution_count": 25,
   "metadata": {},
   "outputs": [
    {
     "name": "stderr",
     "output_type": "stream",
     "text": [
      "[Parallel(n_jobs=10)]: Using backend ThreadingBackend with 10 concurrent workers.\n",
      "[Parallel(n_jobs=10)]: Done  30 tasks      | elapsed:    0.1s\n",
      "[Parallel(n_jobs=10)]: Done  50 out of  50 | elapsed:    0.2s finished\n",
      "[Parallel(n_jobs=10)]: Using backend ThreadingBackend with 10 concurrent workers.\n",
      "[Parallel(n_jobs=10)]: Done  30 tasks      | elapsed:    0.0s\n",
      "[Parallel(n_jobs=10)]: Done  50 out of  50 | elapsed:    0.0s finished\n",
      "[Parallel(n_jobs=10)]: Using backend ThreadingBackend with 10 concurrent workers.\n"
     ]
    },
    {
     "name": "stdout",
     "output_type": "stream",
     "text": [
      "[6.388441749876413]\n"
     ]
    },
    {
     "name": "stderr",
     "output_type": "stream",
     "text": [
      "[Parallel(n_jobs=10)]: Done  30 tasks      | elapsed:    0.1s\n",
      "[Parallel(n_jobs=10)]: Done  75 out of  75 | elapsed:    0.3s finished\n",
      "[Parallel(n_jobs=10)]: Using backend ThreadingBackend with 10 concurrent workers.\n",
      "[Parallel(n_jobs=10)]: Done  30 tasks      | elapsed:    0.0s\n",
      "[Parallel(n_jobs=10)]: Done  75 out of  75 | elapsed:    0.0s finished\n",
      "[Parallel(n_jobs=10)]: Using backend ThreadingBackend with 10 concurrent workers.\n",
      "[Parallel(n_jobs=10)]: Done  30 tasks      | elapsed:    0.1s\n"
     ]
    },
    {
     "name": "stdout",
     "output_type": "stream",
     "text": [
      "[6.388441749876413, 6.4114063894293984]\n"
     ]
    },
    {
     "name": "stderr",
     "output_type": "stream",
     "text": [
      "[Parallel(n_jobs=10)]: Done 100 out of 100 | elapsed:    0.4s finished\n",
      "[Parallel(n_jobs=10)]: Using backend ThreadingBackend with 10 concurrent workers.\n",
      "[Parallel(n_jobs=10)]: Done  30 tasks      | elapsed:    0.0s\n",
      "[Parallel(n_jobs=10)]: Done 100 out of 100 | elapsed:    0.0s finished\n",
      "[Parallel(n_jobs=10)]: Using backend ThreadingBackend with 10 concurrent workers.\n"
     ]
    },
    {
     "name": "stdout",
     "output_type": "stream",
     "text": [
      "[6.388441749876413, 6.4114063894293984, 6.378741263204547]\n"
     ]
    },
    {
     "name": "stderr",
     "output_type": "stream",
     "text": [
      "[Parallel(n_jobs=10)]: Done  30 tasks      | elapsed:    0.1s\n",
      "[Parallel(n_jobs=10)]: Done 125 out of 125 | elapsed:    0.5s finished\n",
      "[Parallel(n_jobs=10)]: Using backend ThreadingBackend with 10 concurrent workers.\n",
      "[Parallel(n_jobs=10)]: Done  30 tasks      | elapsed:    0.0s\n",
      "[Parallel(n_jobs=10)]: Done 125 out of 125 | elapsed:    0.0s finished\n",
      "[Parallel(n_jobs=10)]: Using backend ThreadingBackend with 10 concurrent workers.\n"
     ]
    },
    {
     "name": "stdout",
     "output_type": "stream",
     "text": [
      "[6.388441749876413, 6.4114063894293984, 6.378741263204547, 6.361115699502365]\n"
     ]
    },
    {
     "name": "stderr",
     "output_type": "stream",
     "text": [
      "[Parallel(n_jobs=10)]: Done  30 tasks      | elapsed:    0.1s\n",
      "[Parallel(n_jobs=10)]: Done 150 out of 150 | elapsed:    0.7s finished\n",
      "[Parallel(n_jobs=10)]: Using backend ThreadingBackend with 10 concurrent workers.\n",
      "[Parallel(n_jobs=10)]: Done  30 tasks      | elapsed:    0.0s\n",
      "[Parallel(n_jobs=10)]: Done 150 out of 150 | elapsed:    0.0s finished\n",
      "[Parallel(n_jobs=10)]: Using backend ThreadingBackend with 10 concurrent workers.\n"
     ]
    },
    {
     "name": "stdout",
     "output_type": "stream",
     "text": [
      "[6.388441749876413, 6.4114063894293984, 6.378741263204547, 6.361115699502365, 6.342040874550791]\n"
     ]
    },
    {
     "name": "stderr",
     "output_type": "stream",
     "text": [
      "[Parallel(n_jobs=10)]: Done  30 tasks      | elapsed:    0.1s\n",
      "[Parallel(n_jobs=10)]: Done 175 out of 175 | elapsed:    0.8s finished\n",
      "[Parallel(n_jobs=10)]: Using backend ThreadingBackend with 10 concurrent workers.\n",
      "[Parallel(n_jobs=10)]: Done  30 tasks      | elapsed:    0.0s\n",
      "[Parallel(n_jobs=10)]: Done 175 out of 175 | elapsed:    0.0s finished\n",
      "[Parallel(n_jobs=10)]: Using backend ThreadingBackend with 10 concurrent workers.\n"
     ]
    },
    {
     "name": "stdout",
     "output_type": "stream",
     "text": [
      "[6.388441749876413, 6.4114063894293984, 6.378741263204547, 6.361115699502365, 6.342040874550791, 6.341620362071002]\n"
     ]
    },
    {
     "name": "stderr",
     "output_type": "stream",
     "text": [
      "[Parallel(n_jobs=10)]: Done  30 tasks      | elapsed:    0.1s\n",
      "[Parallel(n_jobs=10)]: Done 180 tasks      | elapsed:    0.8s\n",
      "[Parallel(n_jobs=10)]: Done 200 out of 200 | elapsed:    0.9s finished\n",
      "[Parallel(n_jobs=10)]: Using backend ThreadingBackend with 10 concurrent workers.\n",
      "[Parallel(n_jobs=10)]: Done  30 tasks      | elapsed:    0.0s\n",
      "[Parallel(n_jobs=10)]: Done 180 tasks      | elapsed:    0.0s\n",
      "[Parallel(n_jobs=10)]: Done 200 out of 200 | elapsed:    0.0s finished\n",
      "[Parallel(n_jobs=10)]: Using backend ThreadingBackend with 10 concurrent workers.\n"
     ]
    },
    {
     "name": "stdout",
     "output_type": "stream",
     "text": [
      "[6.388441749876413, 6.4114063894293984, 6.378741263204547, 6.361115699502365, 6.342040874550791, 6.341620362071002, 6.334141839060616]\n"
     ]
    },
    {
     "name": "stderr",
     "output_type": "stream",
     "text": [
      "[Parallel(n_jobs=10)]: Done  30 tasks      | elapsed:    0.0s\n",
      "[Parallel(n_jobs=10)]: Done 180 tasks      | elapsed:    0.7s\n",
      "[Parallel(n_jobs=10)]: Done 225 out of 225 | elapsed:    0.9s finished\n",
      "[Parallel(n_jobs=10)]: Using backend ThreadingBackend with 10 concurrent workers.\n",
      "[Parallel(n_jobs=10)]: Done  30 tasks      | elapsed:    0.0s\n",
      "[Parallel(n_jobs=10)]: Done 180 tasks      | elapsed:    0.0s\n",
      "[Parallel(n_jobs=10)]: Done 225 out of 225 | elapsed:    0.0s finished\n",
      "[Parallel(n_jobs=10)]: Using backend ThreadingBackend with 10 concurrent workers.\n"
     ]
    },
    {
     "name": "stdout",
     "output_type": "stream",
     "text": [
      "[6.388441749876413, 6.4114063894293984, 6.378741263204547, 6.361115699502365, 6.342040874550791, 6.341620362071002, 6.334141839060616, 6.338231854857894]\n"
     ]
    },
    {
     "name": "stderr",
     "output_type": "stream",
     "text": [
      "[Parallel(n_jobs=10)]: Done  30 tasks      | elapsed:    0.1s\n",
      "[Parallel(n_jobs=10)]: Done 180 tasks      | elapsed:    0.8s\n",
      "[Parallel(n_jobs=10)]: Done 250 out of 250 | elapsed:    1.1s finished\n",
      "[Parallel(n_jobs=10)]: Using backend ThreadingBackend with 10 concurrent workers.\n",
      "[Parallel(n_jobs=10)]: Done  30 tasks      | elapsed:    0.0s\n",
      "[Parallel(n_jobs=10)]: Done 180 tasks      | elapsed:    0.0s\n",
      "[Parallel(n_jobs=10)]: Done 250 out of 250 | elapsed:    0.0s finished\n",
      "[Parallel(n_jobs=10)]: Using backend ThreadingBackend with 10 concurrent workers.\n"
     ]
    },
    {
     "name": "stdout",
     "output_type": "stream",
     "text": [
      "[6.388441749876413, 6.4114063894293984, 6.378741263204547, 6.361115699502365, 6.342040874550791, 6.341620362071002, 6.334141839060616, 6.338231854857894, 6.335738578454774]\n"
     ]
    },
    {
     "name": "stderr",
     "output_type": "stream",
     "text": [
      "[Parallel(n_jobs=10)]: Done  30 tasks      | elapsed:    0.1s\n",
      "[Parallel(n_jobs=10)]: Done 180 tasks      | elapsed:    1.0s\n",
      "[Parallel(n_jobs=10)]: Done 275 out of 275 | elapsed:    1.8s finished\n",
      "[Parallel(n_jobs=10)]: Using backend ThreadingBackend with 10 concurrent workers.\n",
      "[Parallel(n_jobs=10)]: Done  30 tasks      | elapsed:    0.0s\n",
      "[Parallel(n_jobs=10)]: Done 180 tasks      | elapsed:    0.0s\n",
      "[Parallel(n_jobs=10)]: Done 275 out of 275 | elapsed:    0.0s finished\n",
      "[Parallel(n_jobs=10)]: Using backend ThreadingBackend with 10 concurrent workers.\n"
     ]
    },
    {
     "name": "stdout",
     "output_type": "stream",
     "text": [
      "[6.388441749876413, 6.4114063894293984, 6.378741263204547, 6.361115699502365, 6.342040874550791, 6.341620362071002, 6.334141839060616, 6.338231854857894, 6.335738578454774, 6.333338267405289]\n"
     ]
    },
    {
     "name": "stderr",
     "output_type": "stream",
     "text": [
      "[Parallel(n_jobs=10)]: Done  30 tasks      | elapsed:    0.2s\n",
      "[Parallel(n_jobs=10)]: Done 180 tasks      | elapsed:    1.4s\n",
      "[Parallel(n_jobs=10)]: Done 300 out of 300 | elapsed:    2.3s finished\n",
      "[Parallel(n_jobs=10)]: Using backend ThreadingBackend with 10 concurrent workers.\n",
      "[Parallel(n_jobs=10)]: Done  30 tasks      | elapsed:    0.0s\n",
      "[Parallel(n_jobs=10)]: Done 180 tasks      | elapsed:    0.0s\n",
      "[Parallel(n_jobs=10)]: Done 300 out of 300 | elapsed:    0.0s finished\n",
      "[Parallel(n_jobs=10)]: Using backend ThreadingBackend with 10 concurrent workers.\n"
     ]
    },
    {
     "name": "stdout",
     "output_type": "stream",
     "text": [
      "[6.388441749876413, 6.4114063894293984, 6.378741263204547, 6.361115699502365, 6.342040874550791, 6.341620362071002, 6.334141839060616, 6.338231854857894, 6.335738578454774, 6.333338267405289, 6.333854160466993]\n"
     ]
    },
    {
     "name": "stderr",
     "output_type": "stream",
     "text": [
      "[Parallel(n_jobs=10)]: Done  30 tasks      | elapsed:    0.1s\n",
      "[Parallel(n_jobs=10)]: Done 180 tasks      | elapsed:    1.2s\n",
      "[Parallel(n_jobs=10)]: Done 325 out of 325 | elapsed:    2.1s finished\n",
      "[Parallel(n_jobs=10)]: Using backend ThreadingBackend with 10 concurrent workers.\n",
      "[Parallel(n_jobs=10)]: Done  30 tasks      | elapsed:    0.0s\n",
      "[Parallel(n_jobs=10)]: Done 180 tasks      | elapsed:    0.0s\n",
      "[Parallel(n_jobs=10)]: Done 325 out of 325 | elapsed:    0.0s finished\n",
      "[Parallel(n_jobs=10)]: Using backend ThreadingBackend with 10 concurrent workers.\n"
     ]
    },
    {
     "name": "stdout",
     "output_type": "stream",
     "text": [
      "[6.388441749876413, 6.4114063894293984, 6.378741263204547, 6.361115699502365, 6.342040874550791, 6.341620362071002, 6.334141839060616, 6.338231854857894, 6.335738578454774, 6.333338267405289, 6.333854160466993, 6.331961572357306]\n"
     ]
    },
    {
     "name": "stderr",
     "output_type": "stream",
     "text": [
      "[Parallel(n_jobs=10)]: Done  30 tasks      | elapsed:    0.1s\n",
      "[Parallel(n_jobs=10)]: Done 180 tasks      | elapsed:    1.2s\n",
      "[Parallel(n_jobs=10)]: Done 350 out of 350 | elapsed:    2.3s finished\n",
      "[Parallel(n_jobs=10)]: Using backend ThreadingBackend with 10 concurrent workers.\n",
      "[Parallel(n_jobs=10)]: Done  30 tasks      | elapsed:    0.0s\n",
      "[Parallel(n_jobs=10)]: Done 180 tasks      | elapsed:    0.0s\n",
      "[Parallel(n_jobs=10)]: Done 350 out of 350 | elapsed:    0.0s finished\n",
      "[Parallel(n_jobs=10)]: Using backend ThreadingBackend with 10 concurrent workers.\n"
     ]
    },
    {
     "name": "stdout",
     "output_type": "stream",
     "text": [
      "[6.388441749876413, 6.4114063894293984, 6.378741263204547, 6.361115699502365, 6.342040874550791, 6.341620362071002, 6.334141839060616, 6.338231854857894, 6.335738578454774, 6.333338267405289, 6.333854160466993, 6.331961572357306, 6.336121039780302]\n"
     ]
    },
    {
     "name": "stderr",
     "output_type": "stream",
     "text": [
      "[Parallel(n_jobs=10)]: Done  30 tasks      | elapsed:    0.1s\n",
      "[Parallel(n_jobs=10)]: Done 180 tasks      | elapsed:    1.1s\n",
      "[Parallel(n_jobs=10)]: Done 375 out of 375 | elapsed:    2.4s finished\n",
      "[Parallel(n_jobs=10)]: Using backend ThreadingBackend with 10 concurrent workers.\n",
      "[Parallel(n_jobs=10)]: Done  30 tasks      | elapsed:    0.0s\n",
      "[Parallel(n_jobs=10)]: Done 180 tasks      | elapsed:    0.0s\n",
      "[Parallel(n_jobs=10)]: Done 375 out of 375 | elapsed:    0.0s finished\n"
     ]
    },
    {
     "name": "stdout",
     "output_type": "stream",
     "text": [
      "[6.388441749876413, 6.4114063894293984, 6.378741263204547, 6.361115699502365, 6.342040874550791, 6.341620362071002, 6.334141839060616, 6.338231854857894, 6.335738578454774, 6.333338267405289, 6.333854160466993, 6.331961572357306, 6.336121039780302, 6.334000856364742]\n"
     ]
    },
    {
     "name": "stderr",
     "output_type": "stream",
     "text": [
      "[Parallel(n_jobs=10)]: Using backend ThreadingBackend with 10 concurrent workers.\n",
      "[Parallel(n_jobs=10)]: Done  30 tasks      | elapsed:    0.2s\n",
      "[Parallel(n_jobs=10)]: Done 180 tasks      | elapsed:    1.2s\n",
      "[Parallel(n_jobs=10)]: Done 400 out of 400 | elapsed:    2.8s finished\n",
      "[Parallel(n_jobs=10)]: Using backend ThreadingBackend with 10 concurrent workers.\n",
      "[Parallel(n_jobs=10)]: Done  30 tasks      | elapsed:    0.0s\n",
      "[Parallel(n_jobs=10)]: Done 180 tasks      | elapsed:    0.0s\n",
      "[Parallel(n_jobs=10)]: Done 400 out of 400 | elapsed:    0.0s finished\n"
     ]
    },
    {
     "name": "stdout",
     "output_type": "stream",
     "text": [
      "[6.388441749876413, 6.4114063894293984, 6.378741263204547, 6.361115699502365, 6.342040874550791, 6.341620362071002, 6.334141839060616, 6.338231854857894, 6.335738578454774, 6.333338267405289, 6.333854160466993, 6.331961572357306, 6.336121039780302, 6.334000856364742, 6.329640215747983]\n"
     ]
    },
    {
     "name": "stderr",
     "output_type": "stream",
     "text": [
      "[Parallel(n_jobs=10)]: Using backend ThreadingBackend with 10 concurrent workers.\n",
      "[Parallel(n_jobs=10)]: Done  30 tasks      | elapsed:    0.1s\n",
      "[Parallel(n_jobs=10)]: Done 180 tasks      | elapsed:    1.3s\n",
      "[Parallel(n_jobs=10)]: Done 425 out of 425 | elapsed:    2.8s finished\n",
      "[Parallel(n_jobs=10)]: Using backend ThreadingBackend with 10 concurrent workers.\n",
      "[Parallel(n_jobs=10)]: Done  30 tasks      | elapsed:    0.0s\n",
      "[Parallel(n_jobs=10)]: Done 180 tasks      | elapsed:    0.0s\n",
      "[Parallel(n_jobs=10)]: Done 425 out of 425 | elapsed:    0.0s finished\n"
     ]
    },
    {
     "name": "stdout",
     "output_type": "stream",
     "text": [
      "[6.388441749876413, 6.4114063894293984, 6.378741263204547, 6.361115699502365, 6.342040874550791, 6.341620362071002, 6.334141839060616, 6.338231854857894, 6.335738578454774, 6.333338267405289, 6.333854160466993, 6.331961572357306, 6.336121039780302, 6.334000856364742, 6.329640215747983, 6.328959495046526]\n"
     ]
    },
    {
     "name": "stderr",
     "output_type": "stream",
     "text": [
      "[Parallel(n_jobs=10)]: Using backend ThreadingBackend with 10 concurrent workers.\n",
      "[Parallel(n_jobs=10)]: Done  30 tasks      | elapsed:    0.2s\n",
      "[Parallel(n_jobs=10)]: Done 180 tasks      | elapsed:    1.6s\n",
      "[Parallel(n_jobs=10)]: Done 430 tasks      | elapsed:    3.6s\n",
      "[Parallel(n_jobs=10)]: Done 450 out of 450 | elapsed:    3.7s finished\n",
      "[Parallel(n_jobs=10)]: Using backend ThreadingBackend with 10 concurrent workers.\n",
      "[Parallel(n_jobs=10)]: Done  30 tasks      | elapsed:    0.0s\n",
      "[Parallel(n_jobs=10)]: Done 180 tasks      | elapsed:    0.0s\n",
      "[Parallel(n_jobs=10)]: Done 430 tasks      | elapsed:    0.0s\n",
      "[Parallel(n_jobs=10)]: Done 450 out of 450 | elapsed:    0.1s finished\n"
     ]
    },
    {
     "name": "stdout",
     "output_type": "stream",
     "text": [
      "[6.388441749876413, 6.4114063894293984, 6.378741263204547, 6.361115699502365, 6.342040874550791, 6.341620362071002, 6.334141839060616, 6.338231854857894, 6.335738578454774, 6.333338267405289, 6.333854160466993, 6.331961572357306, 6.336121039780302, 6.334000856364742, 6.329640215747983, 6.328959495046526, 6.327934259738363]\n"
     ]
    },
    {
     "name": "stderr",
     "output_type": "stream",
     "text": [
      "[Parallel(n_jobs=10)]: Using backend ThreadingBackend with 10 concurrent workers.\n",
      "[Parallel(n_jobs=10)]: Done  30 tasks      | elapsed:    0.2s\n",
      "[Parallel(n_jobs=10)]: Done 180 tasks      | elapsed:    1.4s\n",
      "[Parallel(n_jobs=10)]: Done 430 tasks      | elapsed:    3.1s\n",
      "[Parallel(n_jobs=10)]: Done 475 out of 475 | elapsed:    3.4s finished\n",
      "[Parallel(n_jobs=10)]: Using backend ThreadingBackend with 10 concurrent workers.\n",
      "[Parallel(n_jobs=10)]: Done  30 tasks      | elapsed:    0.0s\n",
      "[Parallel(n_jobs=10)]: Done 180 tasks      | elapsed:    0.0s\n",
      "[Parallel(n_jobs=10)]: Done 430 tasks      | elapsed:    0.0s\n",
      "[Parallel(n_jobs=10)]: Done 475 out of 475 | elapsed:    0.0s finished\n"
     ]
    },
    {
     "name": "stdout",
     "output_type": "stream",
     "text": [
      "[6.388441749876413, 6.4114063894293984, 6.378741263204547, 6.361115699502365, 6.342040874550791, 6.341620362071002, 6.334141839060616, 6.338231854857894, 6.335738578454774, 6.333338267405289, 6.333854160466993, 6.331961572357306, 6.336121039780302, 6.334000856364742, 6.329640215747983, 6.328959495046526, 6.327934259738363, 6.331593960444632]\n"
     ]
    },
    {
     "name": "stderr",
     "output_type": "stream",
     "text": [
      "[Parallel(n_jobs=10)]: Using backend ThreadingBackend with 10 concurrent workers.\n",
      "[Parallel(n_jobs=10)]: Done  30 tasks      | elapsed:    0.1s\n",
      "[Parallel(n_jobs=10)]: Done 180 tasks      | elapsed:    1.3s\n",
      "[Parallel(n_jobs=10)]: Done 430 tasks      | elapsed:    3.0s\n",
      "[Parallel(n_jobs=10)]: Done 500 out of 500 | elapsed:    3.4s finished\n",
      "[Parallel(n_jobs=10)]: Using backend ThreadingBackend with 10 concurrent workers.\n",
      "[Parallel(n_jobs=10)]: Done  30 tasks      | elapsed:    0.0s\n",
      "[Parallel(n_jobs=10)]: Done 180 tasks      | elapsed:    0.0s\n",
      "[Parallel(n_jobs=10)]: Done 430 tasks      | elapsed:    0.0s\n",
      "[Parallel(n_jobs=10)]: Done 500 out of 500 | elapsed:    0.1s finished\n"
     ]
    },
    {
     "name": "stdout",
     "output_type": "stream",
     "text": [
      "[6.388441749876413, 6.4114063894293984, 6.378741263204547, 6.361115699502365, 6.342040874550791, 6.341620362071002, 6.334141839060616, 6.338231854857894, 6.335738578454774, 6.333338267405289, 6.333854160466993, 6.331961572357306, 6.336121039780302, 6.334000856364742, 6.329640215747983, 6.328959495046526, 6.327934259738363, 6.331593960444632, 6.330222751256839]\n"
     ]
    },
    {
     "name": "stderr",
     "output_type": "stream",
     "text": [
      "[Parallel(n_jobs=10)]: Using backend ThreadingBackend with 10 concurrent workers.\n",
      "[Parallel(n_jobs=10)]: Done  30 tasks      | elapsed:    0.2s\n",
      "[Parallel(n_jobs=10)]: Done 180 tasks      | elapsed:    1.4s\n",
      "[Parallel(n_jobs=10)]: Done 430 tasks      | elapsed:    3.1s\n",
      "[Parallel(n_jobs=10)]: Done 525 out of 525 | elapsed:    3.7s finished\n",
      "[Parallel(n_jobs=10)]: Using backend ThreadingBackend with 10 concurrent workers.\n",
      "[Parallel(n_jobs=10)]: Done  30 tasks      | elapsed:    0.0s\n",
      "[Parallel(n_jobs=10)]: Done 180 tasks      | elapsed:    0.0s\n",
      "[Parallel(n_jobs=10)]: Done 430 tasks      | elapsed:    0.0s\n",
      "[Parallel(n_jobs=10)]: Done 525 out of 525 | elapsed:    0.0s finished\n"
     ]
    },
    {
     "name": "stdout",
     "output_type": "stream",
     "text": [
      "[6.388441749876413, 6.4114063894293984, 6.378741263204547, 6.361115699502365, 6.342040874550791, 6.341620362071002, 6.334141839060616, 6.338231854857894, 6.335738578454774, 6.333338267405289, 6.333854160466993, 6.331961572357306, 6.336121039780302, 6.334000856364742, 6.329640215747983, 6.328959495046526, 6.327934259738363, 6.331593960444632, 6.330222751256839, 6.326690899203442]\n"
     ]
    },
    {
     "name": "stderr",
     "output_type": "stream",
     "text": [
      "[Parallel(n_jobs=10)]: Using backend ThreadingBackend with 10 concurrent workers.\n",
      "[Parallel(n_jobs=10)]: Done  30 tasks      | elapsed:    0.1s\n",
      "[Parallel(n_jobs=10)]: Done 180 tasks      | elapsed:    1.2s\n",
      "[Parallel(n_jobs=10)]: Done 430 tasks      | elapsed:    2.7s\n",
      "[Parallel(n_jobs=10)]: Done 550 out of 550 | elapsed:    3.4s finished\n",
      "[Parallel(n_jobs=10)]: Using backend ThreadingBackend with 10 concurrent workers.\n",
      "[Parallel(n_jobs=10)]: Done  30 tasks      | elapsed:    0.0s\n",
      "[Parallel(n_jobs=10)]: Done 180 tasks      | elapsed:    0.0s\n",
      "[Parallel(n_jobs=10)]: Done 430 tasks      | elapsed:    0.0s\n",
      "[Parallel(n_jobs=10)]: Done 550 out of 550 | elapsed:    0.0s finished\n"
     ]
    },
    {
     "name": "stdout",
     "output_type": "stream",
     "text": [
      "[6.388441749876413, 6.4114063894293984, 6.378741263204547, 6.361115699502365, 6.342040874550791, 6.341620362071002, 6.334141839060616, 6.338231854857894, 6.335738578454774, 6.333338267405289, 6.333854160466993, 6.331961572357306, 6.336121039780302, 6.334000856364742, 6.329640215747983, 6.328959495046526, 6.327934259738363, 6.331593960444632, 6.330222751256839, 6.326690899203442, 6.322694657704023]\n"
     ]
    },
    {
     "name": "stderr",
     "output_type": "stream",
     "text": [
      "[Parallel(n_jobs=10)]: Using backend ThreadingBackend with 10 concurrent workers.\n",
      "[Parallel(n_jobs=10)]: Done  30 tasks      | elapsed:    0.1s\n",
      "[Parallel(n_jobs=10)]: Done 180 tasks      | elapsed:    1.2s\n",
      "[Parallel(n_jobs=10)]: Done 430 tasks      | elapsed:    2.9s\n",
      "[Parallel(n_jobs=10)]: Done 575 out of 575 | elapsed:    3.8s finished\n",
      "[Parallel(n_jobs=10)]: Using backend ThreadingBackend with 10 concurrent workers.\n",
      "[Parallel(n_jobs=10)]: Done  30 tasks      | elapsed:    0.0s\n",
      "[Parallel(n_jobs=10)]: Done 180 tasks      | elapsed:    0.0s\n",
      "[Parallel(n_jobs=10)]: Done 430 tasks      | elapsed:    0.0s\n",
      "[Parallel(n_jobs=10)]: Done 575 out of 575 | elapsed:    0.0s finished\n"
     ]
    },
    {
     "name": "stdout",
     "output_type": "stream",
     "text": [
      "[6.388441749876413, 6.4114063894293984, 6.378741263204547, 6.361115699502365, 6.342040874550791, 6.341620362071002, 6.334141839060616, 6.338231854857894, 6.335738578454774, 6.333338267405289, 6.333854160466993, 6.331961572357306, 6.336121039780302, 6.334000856364742, 6.329640215747983, 6.328959495046526, 6.327934259738363, 6.331593960444632, 6.330222751256839, 6.326690899203442, 6.322694657704023, 6.320711135245389]\n"
     ]
    },
    {
     "name": "stderr",
     "output_type": "stream",
     "text": [
      "[Parallel(n_jobs=10)]: Using backend ThreadingBackend with 10 concurrent workers.\n",
      "[Parallel(n_jobs=10)]: Done  30 tasks      | elapsed:    0.1s\n",
      "[Parallel(n_jobs=10)]: Done 180 tasks      | elapsed:    1.1s\n",
      "[Parallel(n_jobs=10)]: Done 430 tasks      | elapsed:    2.7s\n",
      "[Parallel(n_jobs=10)]: Done 600 out of 600 | elapsed:    3.7s finished\n",
      "[Parallel(n_jobs=10)]: Using backend ThreadingBackend with 10 concurrent workers.\n",
      "[Parallel(n_jobs=10)]: Done  30 tasks      | elapsed:    0.0s\n",
      "[Parallel(n_jobs=10)]: Done 180 tasks      | elapsed:    0.0s\n",
      "[Parallel(n_jobs=10)]: Done 430 tasks      | elapsed:    0.0s\n",
      "[Parallel(n_jobs=10)]: Done 600 out of 600 | elapsed:    0.0s finished\n"
     ]
    },
    {
     "name": "stdout",
     "output_type": "stream",
     "text": [
      "[6.388441749876413, 6.4114063894293984, 6.378741263204547, 6.361115699502365, 6.342040874550791, 6.341620362071002, 6.334141839060616, 6.338231854857894, 6.335738578454774, 6.333338267405289, 6.333854160466993, 6.331961572357306, 6.336121039780302, 6.334000856364742, 6.329640215747983, 6.328959495046526, 6.327934259738363, 6.331593960444632, 6.330222751256839, 6.326690899203442, 6.322694657704023, 6.320711135245389, 6.323634235538654]\n"
     ]
    },
    {
     "name": "stderr",
     "output_type": "stream",
     "text": [
      "[Parallel(n_jobs=10)]: Using backend ThreadingBackend with 10 concurrent workers.\n",
      "[Parallel(n_jobs=10)]: Done  30 tasks      | elapsed:    0.1s\n",
      "[Parallel(n_jobs=10)]: Done 180 tasks      | elapsed:    1.2s\n",
      "[Parallel(n_jobs=10)]: Done 430 tasks      | elapsed:    3.0s\n",
      "[Parallel(n_jobs=10)]: Done 625 out of 625 | elapsed:    4.2s finished\n",
      "[Parallel(n_jobs=10)]: Using backend ThreadingBackend with 10 concurrent workers.\n",
      "[Parallel(n_jobs=10)]: Done  30 tasks      | elapsed:    0.0s\n",
      "[Parallel(n_jobs=10)]: Done 180 tasks      | elapsed:    0.0s\n",
      "[Parallel(n_jobs=10)]: Done 430 tasks      | elapsed:    0.0s\n",
      "[Parallel(n_jobs=10)]: Done 625 out of 625 | elapsed:    0.0s finished\n"
     ]
    },
    {
     "name": "stdout",
     "output_type": "stream",
     "text": [
      "[6.388441749876413, 6.4114063894293984, 6.378741263204547, 6.361115699502365, 6.342040874550791, 6.341620362071002, 6.334141839060616, 6.338231854857894, 6.335738578454774, 6.333338267405289, 6.333854160466993, 6.331961572357306, 6.336121039780302, 6.334000856364742, 6.329640215747983, 6.328959495046526, 6.327934259738363, 6.331593960444632, 6.330222751256839, 6.326690899203442, 6.322694657704023, 6.320711135245389, 6.323634235538654, 6.325135822125336]\n"
     ]
    },
    {
     "name": "stderr",
     "output_type": "stream",
     "text": [
      "[Parallel(n_jobs=10)]: Using backend ThreadingBackend with 10 concurrent workers.\n",
      "[Parallel(n_jobs=10)]: Done  30 tasks      | elapsed:    0.2s\n",
      "[Parallel(n_jobs=10)]: Done 180 tasks      | elapsed:    1.3s\n",
      "[Parallel(n_jobs=10)]: Done 430 tasks      | elapsed:    3.0s\n",
      "[Parallel(n_jobs=10)]: Done 650 out of 650 | elapsed:    4.5s finished\n",
      "[Parallel(n_jobs=10)]: Using backend ThreadingBackend with 10 concurrent workers.\n",
      "[Parallel(n_jobs=10)]: Done  30 tasks      | elapsed:    0.0s\n",
      "[Parallel(n_jobs=10)]: Done 180 tasks      | elapsed:    0.0s\n",
      "[Parallel(n_jobs=10)]: Done 430 tasks      | elapsed:    0.0s\n",
      "[Parallel(n_jobs=10)]: Done 650 out of 650 | elapsed:    0.1s finished\n"
     ]
    },
    {
     "name": "stdout",
     "output_type": "stream",
     "text": [
      "[6.388441749876413, 6.4114063894293984, 6.378741263204547, 6.361115699502365, 6.342040874550791, 6.341620362071002, 6.334141839060616, 6.338231854857894, 6.335738578454774, 6.333338267405289, 6.333854160466993, 6.331961572357306, 6.336121039780302, 6.334000856364742, 6.329640215747983, 6.328959495046526, 6.327934259738363, 6.331593960444632, 6.330222751256839, 6.326690899203442, 6.322694657704023, 6.320711135245389, 6.323634235538654, 6.325135822125336, 6.32184026024691]\n"
     ]
    },
    {
     "name": "stderr",
     "output_type": "stream",
     "text": [
      "[Parallel(n_jobs=10)]: Using backend ThreadingBackend with 10 concurrent workers.\n",
      "[Parallel(n_jobs=10)]: Done  30 tasks      | elapsed:    0.1s\n",
      "[Parallel(n_jobs=10)]: Done 180 tasks      | elapsed:    1.1s\n",
      "[Parallel(n_jobs=10)]: Done 430 tasks      | elapsed:    2.6s\n",
      "[Parallel(n_jobs=10)]: Done 675 out of 675 | elapsed:    4.2s finished\n",
      "[Parallel(n_jobs=10)]: Using backend ThreadingBackend with 10 concurrent workers.\n",
      "[Parallel(n_jobs=10)]: Done  30 tasks      | elapsed:    0.0s\n",
      "[Parallel(n_jobs=10)]: Done 180 tasks      | elapsed:    0.0s\n",
      "[Parallel(n_jobs=10)]: Done 430 tasks      | elapsed:    0.0s\n",
      "[Parallel(n_jobs=10)]: Done 675 out of 675 | elapsed:    0.0s finished\n"
     ]
    },
    {
     "name": "stdout",
     "output_type": "stream",
     "text": [
      "[6.388441749876413, 6.4114063894293984, 6.378741263204547, 6.361115699502365, 6.342040874550791, 6.341620362071002, 6.334141839060616, 6.338231854857894, 6.335738578454774, 6.333338267405289, 6.333854160466993, 6.331961572357306, 6.336121039780302, 6.334000856364742, 6.329640215747983, 6.328959495046526, 6.327934259738363, 6.331593960444632, 6.330222751256839, 6.326690899203442, 6.322694657704023, 6.320711135245389, 6.323634235538654, 6.325135822125336, 6.32184026024691, 6.327811387622469]\n"
     ]
    },
    {
     "name": "stderr",
     "output_type": "stream",
     "text": [
      "[Parallel(n_jobs=10)]: Using backend ThreadingBackend with 10 concurrent workers.\n",
      "[Parallel(n_jobs=10)]: Done  30 tasks      | elapsed:    0.1s\n",
      "[Parallel(n_jobs=10)]: Done 180 tasks      | elapsed:    1.1s\n",
      "[Parallel(n_jobs=10)]: Done 430 tasks      | elapsed:    2.6s\n",
      "[Parallel(n_jobs=10)]: Done 700 out of 700 | elapsed:    4.3s finished\n",
      "[Parallel(n_jobs=10)]: Using backend ThreadingBackend with 10 concurrent workers.\n",
      "[Parallel(n_jobs=10)]: Done  30 tasks      | elapsed:    0.0s\n",
      "[Parallel(n_jobs=10)]: Done 180 tasks      | elapsed:    0.0s\n",
      "[Parallel(n_jobs=10)]: Done 430 tasks      | elapsed:    0.0s\n",
      "[Parallel(n_jobs=10)]: Done 700 out of 700 | elapsed:    0.1s finished\n"
     ]
    },
    {
     "name": "stdout",
     "output_type": "stream",
     "text": [
      "[6.388441749876413, 6.4114063894293984, 6.378741263204547, 6.361115699502365, 6.342040874550791, 6.341620362071002, 6.334141839060616, 6.338231854857894, 6.335738578454774, 6.333338267405289, 6.333854160466993, 6.331961572357306, 6.336121039780302, 6.334000856364742, 6.329640215747983, 6.328959495046526, 6.327934259738363, 6.331593960444632, 6.330222751256839, 6.326690899203442, 6.322694657704023, 6.320711135245389, 6.323634235538654, 6.325135822125336, 6.32184026024691, 6.327811387622469, 6.3263299702208515]\n"
     ]
    },
    {
     "name": "stderr",
     "output_type": "stream",
     "text": [
      "[Parallel(n_jobs=10)]: Using backend ThreadingBackend with 10 concurrent workers.\n",
      "[Parallel(n_jobs=10)]: Done  30 tasks      | elapsed:    0.1s\n",
      "[Parallel(n_jobs=10)]: Done 180 tasks      | elapsed:    1.2s\n",
      "[Parallel(n_jobs=10)]: Done 430 tasks      | elapsed:    2.9s\n",
      "[Parallel(n_jobs=10)]: Done 725 out of 725 | elapsed:    4.8s finished\n",
      "[Parallel(n_jobs=10)]: Using backend ThreadingBackend with 10 concurrent workers.\n",
      "[Parallel(n_jobs=10)]: Done  30 tasks      | elapsed:    0.0s\n",
      "[Parallel(n_jobs=10)]: Done 180 tasks      | elapsed:    0.0s\n",
      "[Parallel(n_jobs=10)]: Done 430 tasks      | elapsed:    0.0s\n",
      "[Parallel(n_jobs=10)]: Done 725 out of 725 | elapsed:    0.1s finished\n"
     ]
    },
    {
     "name": "stdout",
     "output_type": "stream",
     "text": [
      "[6.388441749876413, 6.4114063894293984, 6.378741263204547, 6.361115699502365, 6.342040874550791, 6.341620362071002, 6.334141839060616, 6.338231854857894, 6.335738578454774, 6.333338267405289, 6.333854160466993, 6.331961572357306, 6.336121039780302, 6.334000856364742, 6.329640215747983, 6.328959495046526, 6.327934259738363, 6.331593960444632, 6.330222751256839, 6.326690899203442, 6.322694657704023, 6.320711135245389, 6.323634235538654, 6.325135822125336, 6.32184026024691, 6.327811387622469, 6.3263299702208515, 6.328998397693643]\n"
     ]
    },
    {
     "name": "stderr",
     "output_type": "stream",
     "text": [
      "[Parallel(n_jobs=10)]: Using backend ThreadingBackend with 10 concurrent workers.\n",
      "[Parallel(n_jobs=10)]: Done  30 tasks      | elapsed:    0.1s\n",
      "[Parallel(n_jobs=10)]: Done 180 tasks      | elapsed:    1.2s\n",
      "[Parallel(n_jobs=10)]: Done 430 tasks      | elapsed:    2.9s\n",
      "[Parallel(n_jobs=10)]: Done 750 out of 750 | elapsed:    4.8s finished\n",
      "[Parallel(n_jobs=10)]: Using backend ThreadingBackend with 10 concurrent workers.\n",
      "[Parallel(n_jobs=10)]: Done  30 tasks      | elapsed:    0.0s\n",
      "[Parallel(n_jobs=10)]: Done 180 tasks      | elapsed:    0.0s\n",
      "[Parallel(n_jobs=10)]: Done 430 tasks      | elapsed:    0.0s\n",
      "[Parallel(n_jobs=10)]: Done 750 out of 750 | elapsed:    0.1s finished\n"
     ]
    },
    {
     "name": "stdout",
     "output_type": "stream",
     "text": [
      "[6.388441749876413, 6.4114063894293984, 6.378741263204547, 6.361115699502365, 6.342040874550791, 6.341620362071002, 6.334141839060616, 6.338231854857894, 6.335738578454774, 6.333338267405289, 6.333854160466993, 6.331961572357306, 6.336121039780302, 6.334000856364742, 6.329640215747983, 6.328959495046526, 6.327934259738363, 6.331593960444632, 6.330222751256839, 6.326690899203442, 6.322694657704023, 6.320711135245389, 6.323634235538654, 6.325135822125336, 6.32184026024691, 6.327811387622469, 6.3263299702208515, 6.328998397693643, 6.333186033618984]\n"
     ]
    },
    {
     "name": "stderr",
     "output_type": "stream",
     "text": [
      "[Parallel(n_jobs=10)]: Using backend ThreadingBackend with 10 concurrent workers.\n",
      "[Parallel(n_jobs=10)]: Done  30 tasks      | elapsed:    0.1s\n",
      "[Parallel(n_jobs=10)]: Done 180 tasks      | elapsed:    1.2s\n",
      "[Parallel(n_jobs=10)]: Done 430 tasks      | elapsed:    2.8s\n",
      "[Parallel(n_jobs=10)]: Done 775 out of 775 | elapsed:    4.9s finished\n",
      "[Parallel(n_jobs=10)]: Using backend ThreadingBackend with 10 concurrent workers.\n",
      "[Parallel(n_jobs=10)]: Done  30 tasks      | elapsed:    0.0s\n",
      "[Parallel(n_jobs=10)]: Done 180 tasks      | elapsed:    0.0s\n",
      "[Parallel(n_jobs=10)]: Done 430 tasks      | elapsed:    0.0s\n",
      "[Parallel(n_jobs=10)]: Done 775 out of 775 | elapsed:    0.1s finished\n"
     ]
    },
    {
     "name": "stdout",
     "output_type": "stream",
     "text": [
      "[6.388441749876413, 6.4114063894293984, 6.378741263204547, 6.361115699502365, 6.342040874550791, 6.341620362071002, 6.334141839060616, 6.338231854857894, 6.335738578454774, 6.333338267405289, 6.333854160466993, 6.331961572357306, 6.336121039780302, 6.334000856364742, 6.329640215747983, 6.328959495046526, 6.327934259738363, 6.331593960444632, 6.330222751256839, 6.326690899203442, 6.322694657704023, 6.320711135245389, 6.323634235538654, 6.325135822125336, 6.32184026024691, 6.327811387622469, 6.3263299702208515, 6.328998397693643, 6.333186033618984, 6.335516835878337]\n"
     ]
    },
    {
     "name": "stderr",
     "output_type": "stream",
     "text": [
      "[Parallel(n_jobs=10)]: Using backend ThreadingBackend with 10 concurrent workers.\n",
      "[Parallel(n_jobs=10)]: Done  30 tasks      | elapsed:    0.1s\n",
      "[Parallel(n_jobs=10)]: Done 180 tasks      | elapsed:    1.1s\n",
      "[Parallel(n_jobs=10)]: Done 430 tasks      | elapsed:    2.7s\n",
      "[Parallel(n_jobs=10)]: Done 780 tasks      | elapsed:    4.8s\n",
      "[Parallel(n_jobs=10)]: Done 800 out of 800 | elapsed:    4.9s finished\n",
      "[Parallel(n_jobs=10)]: Using backend ThreadingBackend with 10 concurrent workers.\n",
      "[Parallel(n_jobs=10)]: Done  30 tasks      | elapsed:    0.0s\n",
      "[Parallel(n_jobs=10)]: Done 180 tasks      | elapsed:    0.0s\n",
      "[Parallel(n_jobs=10)]: Done 430 tasks      | elapsed:    0.0s\n",
      "[Parallel(n_jobs=10)]: Done 780 tasks      | elapsed:    0.1s\n",
      "[Parallel(n_jobs=10)]: Done 800 out of 800 | elapsed:    0.1s finished\n"
     ]
    },
    {
     "name": "stdout",
     "output_type": "stream",
     "text": [
      "[6.388441749876413, 6.4114063894293984, 6.378741263204547, 6.361115699502365, 6.342040874550791, 6.341620362071002, 6.334141839060616, 6.338231854857894, 6.335738578454774, 6.333338267405289, 6.333854160466993, 6.331961572357306, 6.336121039780302, 6.334000856364742, 6.329640215747983, 6.328959495046526, 6.327934259738363, 6.331593960444632, 6.330222751256839, 6.326690899203442, 6.322694657704023, 6.320711135245389, 6.323634235538654, 6.325135822125336, 6.32184026024691, 6.327811387622469, 6.3263299702208515, 6.328998397693643, 6.333186033618984, 6.335516835878337, 6.3366426050840925]\n"
     ]
    },
    {
     "name": "stderr",
     "output_type": "stream",
     "text": [
      "[Parallel(n_jobs=10)]: Using backend ThreadingBackend with 10 concurrent workers.\n",
      "[Parallel(n_jobs=10)]: Done  30 tasks      | elapsed:    0.1s\n",
      "[Parallel(n_jobs=10)]: Done 180 tasks      | elapsed:    1.2s\n",
      "[Parallel(n_jobs=10)]: Done 430 tasks      | elapsed:    2.8s\n",
      "[Parallel(n_jobs=10)]: Done 780 tasks      | elapsed:    5.1s\n",
      "[Parallel(n_jobs=10)]: Done 825 out of 825 | elapsed:    5.3s finished\n",
      "[Parallel(n_jobs=10)]: Using backend ThreadingBackend with 10 concurrent workers.\n",
      "[Parallel(n_jobs=10)]: Done  30 tasks      | elapsed:    0.0s\n",
      "[Parallel(n_jobs=10)]: Done 180 tasks      | elapsed:    0.0s\n",
      "[Parallel(n_jobs=10)]: Done 430 tasks      | elapsed:    0.0s\n",
      "[Parallel(n_jobs=10)]: Done 780 tasks      | elapsed:    0.1s\n",
      "[Parallel(n_jobs=10)]: Done 825 out of 825 | elapsed:    0.1s finished\n"
     ]
    },
    {
     "name": "stdout",
     "output_type": "stream",
     "text": [
      "[6.388441749876413, 6.4114063894293984, 6.378741263204547, 6.361115699502365, 6.342040874550791, 6.341620362071002, 6.334141839060616, 6.338231854857894, 6.335738578454774, 6.333338267405289, 6.333854160466993, 6.331961572357306, 6.336121039780302, 6.334000856364742, 6.329640215747983, 6.328959495046526, 6.327934259738363, 6.331593960444632, 6.330222751256839, 6.326690899203442, 6.322694657704023, 6.320711135245389, 6.323634235538654, 6.325135822125336, 6.32184026024691, 6.327811387622469, 6.3263299702208515, 6.328998397693643, 6.333186033618984, 6.335516835878337, 6.3366426050840925, 6.337976840384564]\n"
     ]
    },
    {
     "name": "stderr",
     "output_type": "stream",
     "text": [
      "[Parallel(n_jobs=10)]: Using backend ThreadingBackend with 10 concurrent workers.\n",
      "[Parallel(n_jobs=10)]: Done  30 tasks      | elapsed:    0.1s\n",
      "[Parallel(n_jobs=10)]: Done 180 tasks      | elapsed:    1.1s\n",
      "[Parallel(n_jobs=10)]: Done 430 tasks      | elapsed:    2.8s\n",
      "[Parallel(n_jobs=10)]: Done 780 tasks      | elapsed:    4.9s\n",
      "[Parallel(n_jobs=10)]: Done 850 out of 850 | elapsed:    5.3s finished\n",
      "[Parallel(n_jobs=10)]: Using backend ThreadingBackend with 10 concurrent workers.\n",
      "[Parallel(n_jobs=10)]: Done  30 tasks      | elapsed:    0.0s\n",
      "[Parallel(n_jobs=10)]: Done 180 tasks      | elapsed:    0.0s\n",
      "[Parallel(n_jobs=10)]: Done 430 tasks      | elapsed:    0.0s\n",
      "[Parallel(n_jobs=10)]: Done 780 tasks      | elapsed:    0.1s\n",
      "[Parallel(n_jobs=10)]: Done 850 out of 850 | elapsed:    0.1s finished\n"
     ]
    },
    {
     "name": "stdout",
     "output_type": "stream",
     "text": [
      "[6.388441749876413, 6.4114063894293984, 6.378741263204547, 6.361115699502365, 6.342040874550791, 6.341620362071002, 6.334141839060616, 6.338231854857894, 6.335738578454774, 6.333338267405289, 6.333854160466993, 6.331961572357306, 6.336121039780302, 6.334000856364742, 6.329640215747983, 6.328959495046526, 6.327934259738363, 6.331593960444632, 6.330222751256839, 6.326690899203442, 6.322694657704023, 6.320711135245389, 6.323634235538654, 6.325135822125336, 6.32184026024691, 6.327811387622469, 6.3263299702208515, 6.328998397693643, 6.333186033618984, 6.335516835878337, 6.3366426050840925, 6.337976840384564, 6.338070049587313]\n"
     ]
    },
    {
     "name": "stderr",
     "output_type": "stream",
     "text": [
      "[Parallel(n_jobs=10)]: Using backend ThreadingBackend with 10 concurrent workers.\n",
      "[Parallel(n_jobs=10)]: Done  30 tasks      | elapsed:    0.1s\n",
      "[Parallel(n_jobs=10)]: Done 180 tasks      | elapsed:    1.2s\n",
      "[Parallel(n_jobs=10)]: Done 430 tasks      | elapsed:    2.9s\n",
      "[Parallel(n_jobs=10)]: Done 780 tasks      | elapsed:    5.2s\n",
      "[Parallel(n_jobs=10)]: Done 875 out of 875 | elapsed:    5.8s finished\n",
      "[Parallel(n_jobs=10)]: Using backend ThreadingBackend with 10 concurrent workers.\n",
      "[Parallel(n_jobs=10)]: Done  30 tasks      | elapsed:    0.0s\n",
      "[Parallel(n_jobs=10)]: Done 180 tasks      | elapsed:    0.0s\n",
      "[Parallel(n_jobs=10)]: Done 430 tasks      | elapsed:    0.0s\n",
      "[Parallel(n_jobs=10)]: Done 780 tasks      | elapsed:    0.1s\n",
      "[Parallel(n_jobs=10)]: Done 875 out of 875 | elapsed:    0.1s finished\n"
     ]
    },
    {
     "name": "stdout",
     "output_type": "stream",
     "text": [
      "[6.388441749876413, 6.4114063894293984, 6.378741263204547, 6.361115699502365, 6.342040874550791, 6.341620362071002, 6.334141839060616, 6.338231854857894, 6.335738578454774, 6.333338267405289, 6.333854160466993, 6.331961572357306, 6.336121039780302, 6.334000856364742, 6.329640215747983, 6.328959495046526, 6.327934259738363, 6.331593960444632, 6.330222751256839, 6.326690899203442, 6.322694657704023, 6.320711135245389, 6.323634235538654, 6.325135822125336, 6.32184026024691, 6.327811387622469, 6.3263299702208515, 6.328998397693643, 6.333186033618984, 6.335516835878337, 6.3366426050840925, 6.337976840384564, 6.338070049587313, 6.343399405223897]\n"
     ]
    },
    {
     "name": "stderr",
     "output_type": "stream",
     "text": [
      "[Parallel(n_jobs=10)]: Using backend ThreadingBackend with 10 concurrent workers.\n",
      "[Parallel(n_jobs=10)]: Done  30 tasks      | elapsed:    0.1s\n",
      "[Parallel(n_jobs=10)]: Done 180 tasks      | elapsed:    1.2s\n",
      "[Parallel(n_jobs=10)]: Done 430 tasks      | elapsed:    3.1s\n",
      "[Parallel(n_jobs=10)]: Done 780 tasks      | elapsed:    5.7s\n",
      "[Parallel(n_jobs=10)]: Done 900 out of 900 | elapsed:    6.6s finished\n",
      "[Parallel(n_jobs=10)]: Using backend ThreadingBackend with 10 concurrent workers.\n",
      "[Parallel(n_jobs=10)]: Done  30 tasks      | elapsed:    0.0s\n",
      "[Parallel(n_jobs=10)]: Done 180 tasks      | elapsed:    0.0s\n",
      "[Parallel(n_jobs=10)]: Done 430 tasks      | elapsed:    0.0s\n",
      "[Parallel(n_jobs=10)]: Done 780 tasks      | elapsed:    0.1s\n",
      "[Parallel(n_jobs=10)]: Done 900 out of 900 | elapsed:    0.2s finished\n"
     ]
    },
    {
     "name": "stdout",
     "output_type": "stream",
     "text": [
      "[6.388441749876413, 6.4114063894293984, 6.378741263204547, 6.361115699502365, 6.342040874550791, 6.341620362071002, 6.334141839060616, 6.338231854857894, 6.335738578454774, 6.333338267405289, 6.333854160466993, 6.331961572357306, 6.336121039780302, 6.334000856364742, 6.329640215747983, 6.328959495046526, 6.327934259738363, 6.331593960444632, 6.330222751256839, 6.326690899203442, 6.322694657704023, 6.320711135245389, 6.323634235538654, 6.325135822125336, 6.32184026024691, 6.327811387622469, 6.3263299702208515, 6.328998397693643, 6.333186033618984, 6.335516835878337, 6.3366426050840925, 6.337976840384564, 6.338070049587313, 6.343399405223897, 6.343470237398754]\n"
     ]
    },
    {
     "name": "stderr",
     "output_type": "stream",
     "text": [
      "[Parallel(n_jobs=10)]: Using backend ThreadingBackend with 10 concurrent workers.\n",
      "[Parallel(n_jobs=10)]: Done  30 tasks      | elapsed:    0.2s\n",
      "[Parallel(n_jobs=10)]: Done 180 tasks      | elapsed:    1.4s\n",
      "[Parallel(n_jobs=10)]: Done 430 tasks      | elapsed:    2.9s\n",
      "[Parallel(n_jobs=10)]: Done 780 tasks      | elapsed:    5.0s\n",
      "[Parallel(n_jobs=10)]: Done 925 out of 925 | elapsed:    5.9s finished\n",
      "[Parallel(n_jobs=10)]: Using backend ThreadingBackend with 10 concurrent workers.\n",
      "[Parallel(n_jobs=10)]: Done  30 tasks      | elapsed:    0.0s\n",
      "[Parallel(n_jobs=10)]: Done 180 tasks      | elapsed:    0.0s\n",
      "[Parallel(n_jobs=10)]: Done 430 tasks      | elapsed:    0.0s\n",
      "[Parallel(n_jobs=10)]: Done 780 tasks      | elapsed:    0.1s\n",
      "[Parallel(n_jobs=10)]: Done 925 out of 925 | elapsed:    0.1s finished\n"
     ]
    },
    {
     "name": "stdout",
     "output_type": "stream",
     "text": [
      "[6.388441749876413, 6.4114063894293984, 6.378741263204547, 6.361115699502365, 6.342040874550791, 6.341620362071002, 6.334141839060616, 6.338231854857894, 6.335738578454774, 6.333338267405289, 6.333854160466993, 6.331961572357306, 6.336121039780302, 6.334000856364742, 6.329640215747983, 6.328959495046526, 6.327934259738363, 6.331593960444632, 6.330222751256839, 6.326690899203442, 6.322694657704023, 6.320711135245389, 6.323634235538654, 6.325135822125336, 6.32184026024691, 6.327811387622469, 6.3263299702208515, 6.328998397693643, 6.333186033618984, 6.335516835878337, 6.3366426050840925, 6.337976840384564, 6.338070049587313, 6.343399405223897, 6.343470237398754, 6.345034590969006]\n"
     ]
    },
    {
     "name": "stderr",
     "output_type": "stream",
     "text": [
      "[Parallel(n_jobs=10)]: Using backend ThreadingBackend with 10 concurrent workers.\n",
      "[Parallel(n_jobs=10)]: Done  30 tasks      | elapsed:    0.1s\n",
      "[Parallel(n_jobs=10)]: Done 180 tasks      | elapsed:    1.1s\n",
      "[Parallel(n_jobs=10)]: Done 430 tasks      | elapsed:    2.6s\n",
      "[Parallel(n_jobs=10)]: Done 780 tasks      | elapsed:    4.7s\n",
      "[Parallel(n_jobs=10)]: Done 950 out of 950 | elapsed:    5.8s finished\n",
      "[Parallel(n_jobs=10)]: Using backend ThreadingBackend with 10 concurrent workers.\n",
      "[Parallel(n_jobs=10)]: Done  30 tasks      | elapsed:    0.0s\n",
      "[Parallel(n_jobs=10)]: Done 180 tasks      | elapsed:    0.0s\n",
      "[Parallel(n_jobs=10)]: Done 430 tasks      | elapsed:    0.0s\n",
      "[Parallel(n_jobs=10)]: Done 780 tasks      | elapsed:    0.1s\n",
      "[Parallel(n_jobs=10)]: Done 950 out of 950 | elapsed:    0.1s finished\n"
     ]
    },
    {
     "name": "stdout",
     "output_type": "stream",
     "text": [
      "[6.388441749876413, 6.4114063894293984, 6.378741263204547, 6.361115699502365, 6.342040874550791, 6.341620362071002, 6.334141839060616, 6.338231854857894, 6.335738578454774, 6.333338267405289, 6.333854160466993, 6.331961572357306, 6.336121039780302, 6.334000856364742, 6.329640215747983, 6.328959495046526, 6.327934259738363, 6.331593960444632, 6.330222751256839, 6.326690899203442, 6.322694657704023, 6.320711135245389, 6.323634235538654, 6.325135822125336, 6.32184026024691, 6.327811387622469, 6.3263299702208515, 6.328998397693643, 6.333186033618984, 6.335516835878337, 6.3366426050840925, 6.337976840384564, 6.338070049587313, 6.343399405223897, 6.343470237398754, 6.345034590969006, 6.34733681364876]\n"
     ]
    },
    {
     "name": "stderr",
     "output_type": "stream",
     "text": [
      "[Parallel(n_jobs=10)]: Using backend ThreadingBackend with 10 concurrent workers.\n",
      "[Parallel(n_jobs=10)]: Done  30 tasks      | elapsed:    0.1s\n",
      "[Parallel(n_jobs=10)]: Done 180 tasks      | elapsed:    1.3s\n",
      "[Parallel(n_jobs=10)]: Done 430 tasks      | elapsed:    3.0s\n",
      "[Parallel(n_jobs=10)]: Done 780 tasks      | elapsed:    5.2s\n",
      "[Parallel(n_jobs=10)]: Done 975 out of 975 | elapsed:    6.5s finished\n",
      "[Parallel(n_jobs=10)]: Using backend ThreadingBackend with 10 concurrent workers.\n",
      "[Parallel(n_jobs=10)]: Done  30 tasks      | elapsed:    0.0s\n",
      "[Parallel(n_jobs=10)]: Done 180 tasks      | elapsed:    0.0s\n",
      "[Parallel(n_jobs=10)]: Done 430 tasks      | elapsed:    0.0s\n"
     ]
    },
    {
     "name": "stdout",
     "output_type": "stream",
     "text": [
      "[6.388441749876413, 6.4114063894293984, 6.378741263204547, 6.361115699502365, 6.342040874550791, 6.341620362071002, 6.334141839060616, 6.338231854857894, 6.335738578454774, 6.333338267405289, 6.333854160466993, 6.331961572357306, 6.336121039780302, 6.334000856364742, 6.329640215747983, 6.328959495046526, 6.327934259738363, 6.331593960444632, 6.330222751256839, 6.326690899203442, 6.322694657704023, 6.320711135245389, 6.323634235538654, 6.325135822125336, 6.32184026024691, 6.327811387622469, 6.3263299702208515, 6.328998397693643, 6.333186033618984, 6.335516835878337, 6.3366426050840925, 6.337976840384564, 6.338070049587313, 6.343399405223897, 6.343470237398754, 6.345034590969006, 6.34733681364876, 6.347977203445056]\n"
     ]
    },
    {
     "name": "stderr",
     "output_type": "stream",
     "text": [
      "[Parallel(n_jobs=10)]: Done 780 tasks      | elapsed:    0.1s\n",
      "[Parallel(n_jobs=10)]: Done 975 out of 975 | elapsed:    0.2s finished\n"
     ]
    }
   ],
   "source": [
    "from sklearn.ensemble import RandomForestRegressor\n",
    "from sklearn.model_selection import train_test_split\n",
    "from sklearn.metrics import mean_absolute_error\n",
    "from sklearn.metrics import mean_squared_error\n",
    "\n",
    "X = df[['Open', 'PrevHigh', 'PrevLow', 'PrevClose', 'PrevVolume']]\n",
    "y = df['Close']\n",
    "trees, errors = [], []\n",
    "\n",
    "X_train, X_test, y_train, y_test = train_test_split(X, y, test_size=0.2, random_state=21)\n",
    "\n",
    "for i in range(50, 1000, 25):\n",
    "    model = RandomForestRegressor(n_estimators = i, criterion='squared_error', max_depth =100, random_state=10, n_jobs = 10, verbose =1)\n",
    "    model.fit(X_train, y_train)\n",
    "    y_preds = model.predict(X_test)\n",
    "    error = mean_absolute_error(y_test, y_preds)\n",
    "    trees.append(i)\n",
    "    errors.append(error)\n",
    "    print(errors)"
   ]
  },
  {
   "cell_type": "code",
   "execution_count": 26,
   "metadata": {},
   "outputs": [
    {
     "data": {
      "image/png": "[encoded data removed]",
      "text/plain": [
       "<Figure size 640x480 with 1 Axes>"
      ]
     },
     "metadata": {},
     "output_type": "display_data"
    }
   ],
   "source": [
    "import matplotlib.pyplot as plt\n",
    "\n",
    "plt.plot(trees, errors, label = \"error\")\n",
    "plt.xlabel(\"Depths\")\n",
    "plt.ylabel(\"Error\")\n",
    "plt.legend(loc=\"upper right\")\n",
    "plt.title(\"Depth Vs Error\")\n",
    "plt.show()"
   ]
  },
  {
   "cell_type": "code",
   "execution_count": 40,
   "metadata": {},
   "outputs": [
    {
     "name": "stderr",
     "output_type": "stream",
     "text": [
      "[Parallel(n_jobs=10)]: Using backend ThreadingBackend with 10 concurrent workers.\n",
      "[Parallel(n_jobs=10)]: Done  30 tasks      | elapsed:    0.2s\n",
      "[Parallel(n_jobs=10)]: Done 130 out of 130 | elapsed:    0.7s finished\n",
      "/opt/homebrew/Caskroom/miniforge/base/envs/streamlit_projects/lib/python3.11/site-packages/sklearn/base.py:465: UserWarning: X does not have valid feature names, but RandomForestRegressor was fitted with feature names\n",
      "  warnings.warn(\n",
      "[Parallel(n_jobs=10)]: Using backend ThreadingBackend with 10 concurrent workers.\n",
      "[Parallel(n_jobs=10)]: Done  30 tasks      | elapsed:    0.0s\n",
      "[Parallel(n_jobs=10)]: Done 130 out of 130 | elapsed:    0.0s finished\n"
     ]
    },
    {
     "data": {
      "text/plain": [
       "array([1030.46861291])"
      ]
     },
     "execution_count": 40,
     "metadata": {},
     "output_type": "execute_result"
    }
   ],
   "source": [
    "model = RandomForestRegressor(n_estimators = 130, criterion='squared_error', max_depth =100, random_state=10, n_jobs = 10, verbose =1)\n",
    "model.fit(X_train, y_train)\n",
    "\n",
    "\n",
    "model.predict([[1034,1028,989.25,1018,5352057]])"
   ]
  },
  {
   "cell_type": "code",
   "execution_count": 41,
   "metadata": {},
   "outputs": [],
   "source": [
    "from source_files.load_data import load_data"
   ]
  },
  {
   "cell_type": "code",
   "execution_count": 46,
   "metadata": {},
   "outputs": [],
   "source": [
    "load_data(tickers[0])"
   ]
  },
  {
   "cell_type": "code",
   "execution_count": null,
   "metadata": {},
   "outputs": [],
   "source": []
  }
 ],
 "metadata": {
  "kernelspec": {
   "display_name": "streamlit_projects",
   "language": "python",
   "name": "python3"
  },
  "language_info": {
   "codemirror_mode": {
    "name": "ipython",
    "version": 3
   },
   "file_extension": ".py",
   "mimetype": "text/x-python",
   "name": "python",
   "nbconvert_exporter": "python",
   "pygments_lexer": "ipython3",
   "version": "3.11.3"
  }
 },
 "nbformat": 4,
 "nbformat_minor": 2
}
